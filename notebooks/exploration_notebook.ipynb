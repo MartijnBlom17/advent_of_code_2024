{
 "cells": [
  {
   "cell_type": "code",
   "execution_count": null,
   "metadata": {},
   "outputs": [],
   "source": [
    "import polars as ps"
   ]
  },
  {
   "cell_type": "code",
   "execution_count": null,
   "metadata": {},
   "outputs": [],
   "source": [
    "my_dict = {\"A\": [1, 2, 3], \"B\": [4, 5, 6]}\n",
    "ps.from_dict(my_dict)"
   ]
  },
  {
   "cell_type": "code",
   "execution_count": null,
   "metadata": {},
   "outputs": [],
   "source": [
    "for i in range(0,2):\n",
    "    print(i)"
   ]
  },
  {
   "cell_type": "code",
   "execution_count": 1,
   "metadata": {},
   "outputs": [],
   "source": [
    "import pulp as pu"
   ]
  },
  {
   "cell_type": "code",
   "execution_count": 2,
   "metadata": {},
   "outputs": [],
   "source": [
    "A = 3\n",
    "B = 1\n",
    "\n",
    "HIGHER = 0\n",
    "\n",
    "a = (94, 34)\n",
    "b = (22, 67)\n",
    "result = (8400 + HIGHER, 5400 + HIGHER)"
   ]
  },
  {
   "cell_type": "code",
   "execution_count": 3,
   "metadata": {},
   "outputs": [],
   "source": [
    "model = pu.LpProblem(\"claw_machine\", pu.LpMinimize)\n",
    "\n",
    "x = pu.LpVariable(\"x\", 0, None, pu.LpInteger)\n",
    "y = pu.LpVariable(\"y\", 0, None, pu.LpInteger)\n",
    "\n",
    "model += pu.lpSum([x * A, y * B])\n",
    "\n",
    "model += a[0] * x + b[0] * y == result[0]\n",
    "model += a[1] * x + b[1] * y == result[1]\n",
    "\n",
    "model.solve(pu.PULP_CBC_CMD(msg=False))\n",
    "\n",
    "if model.sol_status:\n",
    "    res = pu.value(model.objective)\n",
    "else:\n",
    "    res = 0"
   ]
  },
  {
   "cell_type": "code",
   "execution_count": 4,
   "metadata": {},
   "outputs": [
    {
     "data": {
      "text/plain": [
       "280.0"
      ]
     },
     "execution_count": 4,
     "metadata": {},
     "output_type": "execute_result"
    }
   ],
   "source": [
    "res"
   ]
  },
  {
   "cell_type": "code",
   "execution_count": 5,
   "metadata": {},
   "outputs": [
    {
     "name": "stdout",
     "output_type": "stream",
     "text": [
      "Objective value: 280\n"
     ]
    }
   ],
   "source": [
    "import sympy as sp\n",
    "\n",
    "# Define the variables\n",
    "x, y = sp.symbols('x y', integer=True)\n",
    "\n",
    "A = 3\n",
    "B = 1\n",
    "\n",
    "HIGHER = 0\n",
    "\n",
    "a = (94, 34)\n",
    "b = (22, 67)\n",
    "result = (8400 + HIGHER, 5400 + HIGHER)\n",
    "\n",
    "# Define the objective function\n",
    "objective = A * x + B * y\n",
    "\n",
    "# Define the constraints\n",
    "constraints = [\n",
    "    sp.Eq(a[0] * x + b[0] * y, result[0]),\n",
    "    sp.Eq(a[1] * x + b[1] * y, result[1])\n",
    "]\n",
    "\n",
    "# Solve the system of equations\n",
    "solution = sp.linsolve(constraints, x, y)\n",
    "\n",
    "# Extract the solution\n",
    "if solution:\n",
    "    res = objective.subs({x: list(solution)[0][0], y: list(solution)[0][1]})\n",
    "else:\n",
    "    res = 0\n",
    "\n",
    "print(f\"Objective value: {res}\")"
   ]
  },
  {
   "cell_type": "code",
   "execution_count": null,
   "metadata": {},
   "outputs": [],
   "source": [
    "Too low: 2843355440000\n",
    "          104958599303720\n",
    "Too high: 162442112416000\n"
   ]
  },
  {
   "cell_type": "code",
   "execution_count": 9,
   "metadata": {},
   "outputs": [
    {
     "data": {
      "text/plain": [
       "9999999690000.0"
      ]
     },
     "execution_count": 9,
     "metadata": {},
     "output_type": "execute_result"
    }
   ],
   "source": [
    "26 * 118679050000.0 + 67 * 103199170000.0"
   ]
  },
  {
   "cell_type": "code",
   "execution_count": 8,
   "metadata": {},
   "outputs": [
    {
     "data": {
      "text/plain": [
       "10000000124000.0"
      ]
     },
     "execution_count": 8,
     "metadata": {},
     "output_type": "execute_result"
    }
   ],
   "source": [
    "34 * 81081081000.0 + 67 * 108108110000.0"
   ]
  },
  {
   "cell_type": "code",
   "execution_count": null,
   "metadata": {},
   "outputs": [],
   "source": []
  }
 ],
 "metadata": {
  "kernelspec": {
   "display_name": ".venv",
   "language": "python",
   "name": "python3"
  },
  "language_info": {
   "codemirror_mode": {
    "name": "ipython",
    "version": 3
   },
   "file_extension": ".py",
   "mimetype": "text/x-python",
   "name": "python",
   "nbconvert_exporter": "python",
   "pygments_lexer": "ipython3",
   "version": "3.10.12"
  }
 },
 "nbformat": 4,
 "nbformat_minor": 2
}
